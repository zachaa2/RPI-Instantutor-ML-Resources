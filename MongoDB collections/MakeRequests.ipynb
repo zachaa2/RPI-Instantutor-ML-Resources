{
 "cells": [
  {
   "cell_type": "code",
   "execution_count": 1,
   "id": "f0692cee",
   "metadata": {},
   "outputs": [],
   "source": [
    "import json\n",
    "import pandas as pd\n",
    "import numpy as np\n",
    "import random"
   ]
  },
  {
   "cell_type": "code",
   "execution_count": 2,
   "id": "2b289087",
   "metadata": {},
   "outputs": [
    {
     "name": "stdout",
     "output_type": "stream",
     "text": [
      "['339452204954', '557610956080', '440869784283', '518332650411', '231857624626', '225844780186', '253795209201', '956522721205', '326839817935', '673004869800', '909076594118', '793708396846', '785004476473', '619061071719', '354389418015', '779780180629', '265642755648', '102647690264', '909180209608', '850925097056']\n"
     ]
    }
   ],
   "source": [
    "# read in id file\n",
    "# see GenerateID.ipynb to generate ids\n",
    "ids = []\n",
    "file = open(\"id.txt\", \"r\")\n",
    "# read lines and strip newline\n",
    "ids = file.readlines()\n",
    "for i in range(len(ids)):\n",
    "    ids[i] = ids[i].strip()\n",
    "\n",
    "\n",
    "    \n",
    "print(ids[:20])"
   ]
  },
  {
   "cell_type": "code",
   "execution_count": 3,
   "id": "416747b5",
   "metadata": {},
   "outputs": [],
   "source": [
    "# constant\n",
    "# generate a request for each id in ids file\n",
    "# to change NUM_REQUESTS, change ID_COUNT when generating id text file\n",
    "NUM_REQUESTS = len(ids)"
   ]
  },
  {
   "cell_type": "code",
   "execution_count": 4,
   "id": "ee668960",
   "metadata": {},
   "outputs": [],
   "source": [
    "# python script to generate some requests following the Requests structure in the Lifecycle.md file\n",
    "data = []\n",
    "\n",
    "# generate each row of data\n",
    "for i in range(NUM_REQUESTS):\n",
    "    row = []\n",
    "    # assign random status\n",
    "    r = random.randint(0, 1)\n",
    "    if r == 0:\n",
    "        row.append('close')\n",
    "    else:\n",
    "        row.append('open')\n",
    "    \n",
    "    # assign random state\n",
    "    r = random.randint(0, 2)\n",
    "    if r == 0:\n",
    "        row.append('CANCELLED ASSIGNED')\n",
    "    elif r == 1:\n",
    "        row.append(\"ASSIGNED\")\n",
    "    else:\n",
    "        row.append(\"FULFILLED\")\n",
    "    \n",
    "    #assign random student id\n",
    "    row.append(ids[random.randint(0, NUM_REQUESTS - 1)])\n",
    "    # assign random tutor id\n",
    "    tut = str(ids[random.randint(0, NUM_REQUESTS - 1)])\n",
    "    row.append(tut)\n",
    "    \n",
    "    # pinged, accepted, denied, and cancelled tutors (usually arrays but for now they will be single values)\n",
    "    row.append(ids[random.randint(0, NUM_REQUESTS - 1)])\n",
    "    row.append(tut)\n",
    "    row.append(ids[random.randint(0, NUM_REQUESTS - 1)])\n",
    "    row.append(ids[random.randint(0, NUM_REQUESTS - 1)])\n",
    "    \n",
    "    # generate random student and tutor rating\n",
    "    row.append(np.random.choice(np.arange(1, 6), p=[0.2, 0.1, 0.1, 0.2, 0.4]))\n",
    "    row.append(np.random.choice(np.arange(1, 6), p=[0.2, 0.1, 0.1, 0.2, 0.4]))\n",
    "    \n",
    "    # add to data array\n",
    "    data.append(row)    \n"
   ]
  },
  {
   "cell_type": "code",
   "execution_count": 5,
   "id": "2ea19992",
   "metadata": {},
   "outputs": [
    {
     "name": "stdout",
     "output_type": "stream",
     "text": [
      "[['close', 'CANCELLED ASSIGNED', '190410739211', '514507470926', '262178723406', '514507470926', '487704839823', '843412692102', 1, 1], ['close', 'FULFILLED', '501233125204', '596345891396', '557610956080', '596345891396', '375755529049', '141365810034', 5, 2], ['open', 'FULFILLED', '432076874077', '577226305568', '536000238102', '577226305568', '191913380917', '967898307536', 1, 5], ['open', 'CANCELLED ASSIGNED', '473135247866', '555940543602', '690965507051', '555940543602', '424788232626', '518332650411', 2, 3], ['close', 'CANCELLED ASSIGNED', '638764653001', '117663491614', '848515983729', '117663491614', '959066110193', '773756748376', 4, 5], ['close', 'CANCELLED ASSIGNED', '141061564530', '481420883160', '558850183004', '481420883160', '214903713139', '734222440485', 2, 1], ['close', 'FULFILLED', '335136714316', '721897407744', '304111055536', '721897407744', '655949905375', '451841277413', 5, 5], ['open', 'CANCELLED ASSIGNED', '481716264942', '814160786684', '409375406822', '814160786684', '315448845422', '748895572617', 1, 5], ['open', 'FULFILLED', '853495805899', '113731104729', '639793927476', '113731104729', '735731764728', '952367960611', 5, 5], ['open', 'ASSIGNED', '663058207023', '948986014109', '526246366079', '948986014109', '291509170228', '233570760197', 4, 2]]\n"
     ]
    }
   ],
   "source": [
    "\n",
    "# print first 10 rows of data array\n",
    "print(data[:10])\n"
   ]
  },
  {
   "cell_type": "code",
   "execution_count": 6,
   "id": "014e91f3",
   "metadata": {},
   "outputs": [],
   "source": [
    "# columns for the data frame\n",
    "columns = [\"status\", \"state\", \"student\", \"tutor\", \"pinged_tutors\", \"accepted_tutors\", \"denied_tutors\", \"cancelled_tutors\", \"stu_rating\", \"tut_rating\"]\n"
   ]
  },
  {
   "cell_type": "code",
   "execution_count": 7,
   "id": "758ebbf7",
   "metadata": {},
   "outputs": [
    {
     "data": {
      "text/html": [
       "<div>\n",
       "<style scoped>\n",
       "    .dataframe tbody tr th:only-of-type {\n",
       "        vertical-align: middle;\n",
       "    }\n",
       "\n",
       "    .dataframe tbody tr th {\n",
       "        vertical-align: top;\n",
       "    }\n",
       "\n",
       "    .dataframe thead th {\n",
       "        text-align: right;\n",
       "    }\n",
       "</style>\n",
       "<table border=\"1\" class=\"dataframe\">\n",
       "  <thead>\n",
       "    <tr style=\"text-align: right;\">\n",
       "      <th></th>\n",
       "      <th>status</th>\n",
       "      <th>state</th>\n",
       "      <th>student</th>\n",
       "      <th>tutor</th>\n",
       "      <th>pinged_tutors</th>\n",
       "      <th>accepted_tutors</th>\n",
       "      <th>denied_tutors</th>\n",
       "      <th>cancelled_tutors</th>\n",
       "      <th>stu_rating</th>\n",
       "      <th>tut_rating</th>\n",
       "    </tr>\n",
       "  </thead>\n",
       "  <tbody>\n",
       "    <tr>\n",
       "      <th>0</th>\n",
       "      <td>close</td>\n",
       "      <td>CANCELLED ASSIGNED</td>\n",
       "      <td>190410739211</td>\n",
       "      <td>514507470926</td>\n",
       "      <td>262178723406</td>\n",
       "      <td>514507470926</td>\n",
       "      <td>487704839823</td>\n",
       "      <td>843412692102</td>\n",
       "      <td>1</td>\n",
       "      <td>1</td>\n",
       "    </tr>\n",
       "    <tr>\n",
       "      <th>1</th>\n",
       "      <td>close</td>\n",
       "      <td>FULFILLED</td>\n",
       "      <td>501233125204</td>\n",
       "      <td>596345891396</td>\n",
       "      <td>557610956080</td>\n",
       "      <td>596345891396</td>\n",
       "      <td>375755529049</td>\n",
       "      <td>141365810034</td>\n",
       "      <td>5</td>\n",
       "      <td>2</td>\n",
       "    </tr>\n",
       "    <tr>\n",
       "      <th>2</th>\n",
       "      <td>open</td>\n",
       "      <td>FULFILLED</td>\n",
       "      <td>432076874077</td>\n",
       "      <td>577226305568</td>\n",
       "      <td>536000238102</td>\n",
       "      <td>577226305568</td>\n",
       "      <td>191913380917</td>\n",
       "      <td>967898307536</td>\n",
       "      <td>1</td>\n",
       "      <td>5</td>\n",
       "    </tr>\n",
       "    <tr>\n",
       "      <th>3</th>\n",
       "      <td>open</td>\n",
       "      <td>CANCELLED ASSIGNED</td>\n",
       "      <td>473135247866</td>\n",
       "      <td>555940543602</td>\n",
       "      <td>690965507051</td>\n",
       "      <td>555940543602</td>\n",
       "      <td>424788232626</td>\n",
       "      <td>518332650411</td>\n",
       "      <td>2</td>\n",
       "      <td>3</td>\n",
       "    </tr>\n",
       "    <tr>\n",
       "      <th>4</th>\n",
       "      <td>close</td>\n",
       "      <td>CANCELLED ASSIGNED</td>\n",
       "      <td>638764653001</td>\n",
       "      <td>117663491614</td>\n",
       "      <td>848515983729</td>\n",
       "      <td>117663491614</td>\n",
       "      <td>959066110193</td>\n",
       "      <td>773756748376</td>\n",
       "      <td>4</td>\n",
       "      <td>5</td>\n",
       "    </tr>\n",
       "  </tbody>\n",
       "</table>\n",
       "</div>"
      ],
      "text/plain": [
       "  status               state       student         tutor pinged_tutors  \\\n",
       "0  close  CANCELLED ASSIGNED  190410739211  514507470926  262178723406   \n",
       "1  close           FULFILLED  501233125204  596345891396  557610956080   \n",
       "2   open           FULFILLED  432076874077  577226305568  536000238102   \n",
       "3   open  CANCELLED ASSIGNED  473135247866  555940543602  690965507051   \n",
       "4  close  CANCELLED ASSIGNED  638764653001  117663491614  848515983729   \n",
       "\n",
       "  accepted_tutors denied_tutors cancelled_tutors  stu_rating  tut_rating  \n",
       "0    514507470926  487704839823     843412692102           1           1  \n",
       "1    596345891396  375755529049     141365810034           5           2  \n",
       "2    577226305568  191913380917     967898307536           1           5  \n",
       "3    555940543602  424788232626     518332650411           2           3  \n",
       "4    117663491614  959066110193     773756748376           4           5  "
      ]
     },
     "execution_count": 7,
     "metadata": {},
     "output_type": "execute_result"
    }
   ],
   "source": [
    "# make dataframe\n",
    "\n",
    "df = pd.DataFrame(data, columns=columns)\n",
    "df.head()\n"
   ]
  },
  {
   "cell_type": "code",
   "execution_count": 8,
   "id": "d09696ed",
   "metadata": {},
   "outputs": [
    {
     "name": "stdout",
     "output_type": "stream",
     "text": [
      "    status               state       student         tutor pinged_tutors  \\\n",
      "0    close  CANCELLED ASSIGNED  190410739211  514507470926  262178723406   \n",
      "1    close           FULFILLED  501233125204  596345891396  557610956080   \n",
      "2     open           FULFILLED  432076874077  577226305568  536000238102   \n",
      "3     open  CANCELLED ASSIGNED  473135247866  555940543602  690965507051   \n",
      "4    close  CANCELLED ASSIGNED  638764653001  117663491614  848515983729   \n",
      "..     ...                 ...           ...           ...           ...   \n",
      "995  close           FULFILLED  426687251127  550783517791  424788232626   \n",
      "996  close            ASSIGNED  620197194595  759532029453  572407993694   \n",
      "997  close            ASSIGNED  894106900138  420226765933  656536465489   \n",
      "998   open  CANCELLED ASSIGNED  611143700687  196131462672  922894026397   \n",
      "999   open           FULFILLED  192281564003  227277317228  655949905375   \n",
      "\n",
      "    accepted_tutors denied_tutors cancelled_tutors  stu_rating  tut_rating  \n",
      "0      514507470926  487704839823     843412692102           1           1  \n",
      "1      596345891396  375755529049     141365810034           5           2  \n",
      "2      577226305568  191913380917     967898307536           1           5  \n",
      "3      555940543602  424788232626     518332650411           2           3  \n",
      "4      117663491614  959066110193     773756748376           4           5  \n",
      "..              ...           ...              ...         ...         ...  \n",
      "995    550783517791  709914818887     661807788596           2           5  \n",
      "996    759532029453  988475950455     550783517791           5           1  \n",
      "997    420226765933  758972459259     481420883160           5           4  \n",
      "998    196131462672  173670988122     622404639133           2           1  \n",
      "999    227277317228  633523973230     117667473274           1           4  \n",
      "\n",
      "[1000 rows x 10 columns]\n"
     ]
    }
   ],
   "source": [
    "print(df)"
   ]
  },
  {
   "cell_type": "code",
   "execution_count": 9,
   "id": "e7b546d9",
   "metadata": {},
   "outputs": [],
   "source": [
    "#output to json file\n",
    "df.to_json(\"requests.json\", orient=\"index\", indent = 1)\n"
   ]
  },
  {
   "cell_type": "code",
   "execution_count": null,
   "id": "352036b0",
   "metadata": {},
   "outputs": [],
   "source": []
  }
 ],
 "metadata": {
  "kernelspec": {
   "display_name": "Python 3",
   "language": "python",
   "name": "python3"
  },
  "language_info": {
   "codemirror_mode": {
    "name": "ipython",
    "version": 3
   },
   "file_extension": ".py",
   "mimetype": "text/x-python",
   "name": "python",
   "nbconvert_exporter": "python",
   "pygments_lexer": "ipython3",
   "version": "3.8.8"
  }
 },
 "nbformat": 4,
 "nbformat_minor": 5
}
