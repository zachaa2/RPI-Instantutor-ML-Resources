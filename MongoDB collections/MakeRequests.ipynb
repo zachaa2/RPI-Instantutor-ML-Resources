{
 "cells": [
  {
   "cell_type": "code",
   "execution_count": 1,
   "id": "5c8543cb",
   "metadata": {},
   "outputs": [],
   "source": [
    "import json\n",
    "import pandas as pd\n",
    "import numpy as np\n",
    "import random"
   ]
  },
  {
   "cell_type": "code",
   "execution_count": 10,
   "id": "21cd61c7",
   "metadata": {},
   "outputs": [],
   "source": [
    "# constant\n",
    "NUM_REQUESTS = 100"
   ]
  },
  {
   "cell_type": "code",
   "execution_count": 2,
   "id": "5a0914c2",
   "metadata": {},
   "outputs": [],
   "source": [
    "# python script to generate some requests following the Requests structure in the Lifecycle.md file\n",
    "data = []\n",
    "\n",
    "# generate each row of data\n",
    "for i in range(NUM_REQUESTS):\n",
    "    row = []\n",
    "    # assign random status\n",
    "    r = random.randint(0, 1)\n",
    "    if r == 0:\n",
    "        row.append('close')\n",
    "    else:\n",
    "        row.append('open')\n",
    "    \n",
    "    # assign random state\n",
    "    r = random.randint(0, 2)\n",
    "    if r == 0:\n",
    "        row.append('CANCELLED ASSIGNED')\n",
    "    elif r == 1:\n",
    "        row.append(\"ASSIGNED\")\n",
    "    else:\n",
    "        row.append(\"FULFILLED\")\n",
    "    \n",
    "    #assign random student id\n",
    "    row.append(str(random.randint(100000000, 999999999)))\n",
    "    # assign random tutor id\n",
    "    tut = str(random.randint(1000000000, 9999999999))\n",
    "    row.append(tut)\n",
    "    \n",
    "    # pinged, accepted, denied, and cancelled tutors (usually arrays but for now they will be single values)\n",
    "    row.append(str(random.randint(1000000000, 9999999999)))\n",
    "    row.append(tut)\n",
    "    row.append(str(random.randint(1000000000, 9999999999)))\n",
    "    row.append(str(random.randint(1000000000, 9999999999)))\n",
    "    \n",
    "    # generate random student and tutor rating\n",
    "    row.append(np.random.choice(np.arange(1, 6), p=[0.2, 0.1, 0.1, 0.2, 0.4]))\n",
    "    row.append(np.random.choice(np.arange(1, 6), p=[0.2, 0.1, 0.1, 0.2, 0.4]))\n",
    "    \n",
    "    # add to data array\n",
    "    data.append(row)    \n"
   ]
  },
  {
   "cell_type": "code",
   "execution_count": 3,
   "id": "41c05f10",
   "metadata": {},
   "outputs": [
    {
     "name": "stdout",
     "output_type": "stream",
     "text": [
      "[['close', 'ASSIGNED', '961802834', '6255131624', '2250673196', '6255131624', '6609864744', '9078135615', 5, 5], ['close', 'FULFILLED', '616157002', '3679161717', '1385867521', '3679161717', '7812848564', '7392926192', 1, 1], ['close', 'CANCELLED ASSIGNED', '413093069', '9837329265', '9603061037', '9837329265', '2621603041', '3880299635', 5, 5], ['close', 'ASSIGNED', '297060308', '1225019824', '7785700580', '1225019824', '6046830733', '7453068049', 5, 2], ['open', 'CANCELLED ASSIGNED', '999557045', '1935348882', '2079078786', '1935348882', '6635342623', '9802206974', 3, 5], ['open', 'FULFILLED', '880622091', '7629914180', '7449872657', '7629914180', '5330333995', '7103916576', 4, 4], ['open', 'FULFILLED', '185304445', '6892726191', '7438228480', '6892726191', '8451324215', '1005200466', 5, 1], ['close', 'FULFILLED', '247122515', '2806158883', '2224131594', '2806158883', '7280815550', '9926075096', 4, 1], ['close', 'FULFILLED', '112583001', '2268261193', '6832378032', '2268261193', '9628614374', '6448766801', 5, 5], ['close', 'ASSIGNED', '320353867', '3792065894', '5552910579', '3792065894', '9897133127', '1630125747', 4, 5]]\n"
     ]
    }
   ],
   "source": [
    "\n",
    "# print first 10 rows of data array\n",
    "print(data[:10])\n"
   ]
  },
  {
   "cell_type": "code",
   "execution_count": 4,
   "id": "14b0ed5d",
   "metadata": {},
   "outputs": [],
   "source": [
    "# columns for the data frame\n",
    "columns = [\"status\", \"state\", \"student\", \"tutor\", \"pinged_tutors\", \"accepted_tutors\", \"denied_tutors\", \"cancelled_tutors\", \"stu_rating\", \"tut_rating\"]\n"
   ]
  },
  {
   "cell_type": "code",
   "execution_count": 5,
   "id": "61f8f1cf",
   "metadata": {},
   "outputs": [
    {
     "data": {
      "text/html": [
       "<div>\n",
       "<style scoped>\n",
       "    .dataframe tbody tr th:only-of-type {\n",
       "        vertical-align: middle;\n",
       "    }\n",
       "\n",
       "    .dataframe tbody tr th {\n",
       "        vertical-align: top;\n",
       "    }\n",
       "\n",
       "    .dataframe thead th {\n",
       "        text-align: right;\n",
       "    }\n",
       "</style>\n",
       "<table border=\"1\" class=\"dataframe\">\n",
       "  <thead>\n",
       "    <tr style=\"text-align: right;\">\n",
       "      <th></th>\n",
       "      <th>status</th>\n",
       "      <th>state</th>\n",
       "      <th>student</th>\n",
       "      <th>tutor</th>\n",
       "      <th>pinged_tutors</th>\n",
       "      <th>accepted_tutors</th>\n",
       "      <th>denied_tutors</th>\n",
       "      <th>cancelled_tutors</th>\n",
       "      <th>stu_rating</th>\n",
       "      <th>tut_rating</th>\n",
       "    </tr>\n",
       "  </thead>\n",
       "  <tbody>\n",
       "    <tr>\n",
       "      <th>0</th>\n",
       "      <td>close</td>\n",
       "      <td>ASSIGNED</td>\n",
       "      <td>961802834</td>\n",
       "      <td>6255131624</td>\n",
       "      <td>2250673196</td>\n",
       "      <td>6255131624</td>\n",
       "      <td>6609864744</td>\n",
       "      <td>9078135615</td>\n",
       "      <td>5</td>\n",
       "      <td>5</td>\n",
       "    </tr>\n",
       "    <tr>\n",
       "      <th>1</th>\n",
       "      <td>close</td>\n",
       "      <td>FULFILLED</td>\n",
       "      <td>616157002</td>\n",
       "      <td>3679161717</td>\n",
       "      <td>1385867521</td>\n",
       "      <td>3679161717</td>\n",
       "      <td>7812848564</td>\n",
       "      <td>7392926192</td>\n",
       "      <td>1</td>\n",
       "      <td>1</td>\n",
       "    </tr>\n",
       "    <tr>\n",
       "      <th>2</th>\n",
       "      <td>close</td>\n",
       "      <td>CANCELLED ASSIGNED</td>\n",
       "      <td>413093069</td>\n",
       "      <td>9837329265</td>\n",
       "      <td>9603061037</td>\n",
       "      <td>9837329265</td>\n",
       "      <td>2621603041</td>\n",
       "      <td>3880299635</td>\n",
       "      <td>5</td>\n",
       "      <td>5</td>\n",
       "    </tr>\n",
       "    <tr>\n",
       "      <th>3</th>\n",
       "      <td>close</td>\n",
       "      <td>ASSIGNED</td>\n",
       "      <td>297060308</td>\n",
       "      <td>1225019824</td>\n",
       "      <td>7785700580</td>\n",
       "      <td>1225019824</td>\n",
       "      <td>6046830733</td>\n",
       "      <td>7453068049</td>\n",
       "      <td>5</td>\n",
       "      <td>2</td>\n",
       "    </tr>\n",
       "    <tr>\n",
       "      <th>4</th>\n",
       "      <td>open</td>\n",
       "      <td>CANCELLED ASSIGNED</td>\n",
       "      <td>999557045</td>\n",
       "      <td>1935348882</td>\n",
       "      <td>2079078786</td>\n",
       "      <td>1935348882</td>\n",
       "      <td>6635342623</td>\n",
       "      <td>9802206974</td>\n",
       "      <td>3</td>\n",
       "      <td>5</td>\n",
       "    </tr>\n",
       "  </tbody>\n",
       "</table>\n",
       "</div>"
      ],
      "text/plain": [
       "  status               state    student       tutor pinged_tutors  \\\n",
       "0  close            ASSIGNED  961802834  6255131624    2250673196   \n",
       "1  close           FULFILLED  616157002  3679161717    1385867521   \n",
       "2  close  CANCELLED ASSIGNED  413093069  9837329265    9603061037   \n",
       "3  close            ASSIGNED  297060308  1225019824    7785700580   \n",
       "4   open  CANCELLED ASSIGNED  999557045  1935348882    2079078786   \n",
       "\n",
       "  accepted_tutors denied_tutors cancelled_tutors  stu_rating  tut_rating  \n",
       "0      6255131624    6609864744       9078135615           5           5  \n",
       "1      3679161717    7812848564       7392926192           1           1  \n",
       "2      9837329265    2621603041       3880299635           5           5  \n",
       "3      1225019824    6046830733       7453068049           5           2  \n",
       "4      1935348882    6635342623       9802206974           3           5  "
      ]
     },
     "execution_count": 5,
     "metadata": {},
     "output_type": "execute_result"
    }
   ],
   "source": [
    "# make dataframe\n",
    "\n",
    "df = pd.DataFrame(data, columns=columns)\n",
    "df.head()\n"
   ]
  },
  {
   "cell_type": "code",
   "execution_count": 6,
   "id": "1a23ceae",
   "metadata": {},
   "outputs": [
    {
     "name": "stdout",
     "output_type": "stream",
     "text": [
      "   status               state    student       tutor pinged_tutors  \\\n",
      "0   close            ASSIGNED  961802834  6255131624    2250673196   \n",
      "1   close           FULFILLED  616157002  3679161717    1385867521   \n",
      "2   close  CANCELLED ASSIGNED  413093069  9837329265    9603061037   \n",
      "3   close            ASSIGNED  297060308  1225019824    7785700580   \n",
      "4    open  CANCELLED ASSIGNED  999557045  1935348882    2079078786   \n",
      "..    ...                 ...        ...         ...           ...   \n",
      "95  close  CANCELLED ASSIGNED  491202421  1077576945    1464118435   \n",
      "96  close  CANCELLED ASSIGNED  736280443  6554460876    8223345808   \n",
      "97  close  CANCELLED ASSIGNED  521201643  2379362306    9811262628   \n",
      "98  close  CANCELLED ASSIGNED  343615873  8716178104    3756977730   \n",
      "99  close           FULFILLED  750310996  2260123951    1794946767   \n",
      "\n",
      "   accepted_tutors denied_tutors cancelled_tutors  stu_rating  tut_rating  \n",
      "0       6255131624    6609864744       9078135615           5           5  \n",
      "1       3679161717    7812848564       7392926192           1           1  \n",
      "2       9837329265    2621603041       3880299635           5           5  \n",
      "3       1225019824    6046830733       7453068049           5           2  \n",
      "4       1935348882    6635342623       9802206974           3           5  \n",
      "..             ...           ...              ...         ...         ...  \n",
      "95      1077576945    6977173086       1467219683           5           4  \n",
      "96      6554460876    6457920892       9954007319           3           1  \n",
      "97      2379362306    1060190656       9318293845           1           5  \n",
      "98      8716178104    4499394563       5839431530           5           3  \n",
      "99      2260123951    1706013302       7594579140           5           5  \n",
      "\n",
      "[100 rows x 10 columns]\n"
     ]
    }
   ],
   "source": [
    "print(df)"
   ]
  },
  {
   "cell_type": "code",
   "execution_count": 9,
   "id": "7df8bf08",
   "metadata": {},
   "outputs": [],
   "source": [
    "#output to json file\n",
    "df.to_json(\"requests.json\", orient=\"index\", indent = 1)\n"
   ]
  },
  {
   "cell_type": "code",
   "execution_count": null,
   "id": "307da8ea",
   "metadata": {},
   "outputs": [],
   "source": []
  }
 ],
 "metadata": {
  "kernelspec": {
   "display_name": "Python 3",
   "language": "python",
   "name": "python3"
  },
  "language_info": {
   "codemirror_mode": {
    "name": "ipython",
    "version": 3
   },
   "file_extension": ".py",
   "mimetype": "text/x-python",
   "name": "python",
   "nbconvert_exporter": "python",
   "pygments_lexer": "ipython3",
   "version": "3.8.8"
  }
 },
 "nbformat": 4,
 "nbformat_minor": 5
}
