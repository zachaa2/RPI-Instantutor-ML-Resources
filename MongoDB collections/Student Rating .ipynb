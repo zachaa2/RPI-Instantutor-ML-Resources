{
 "cells": [
  {
   "cell_type": "code",
   "execution_count": null,
   "id": "26d5a01c",
   "metadata": {},
   "outputs": [],
   "source": [
    "import json\n",
    "import pandas as pd\n",
    "import numpy as np\n",
    "import re\n",
    "import string\n",
    "import os"
   ]
  },
  {
   "cell_type": "code",
   "execution_count": null,
   "id": "7b4a83f7",
   "metadata": {},
   "outputs": [],
   "source": [
    "requests = pd.read_json(\"resquests.json\")\n",
    "profiles = pd.read_json(\"profiles.json\")\n",
    "\n",
    "requests = requests.transpose()\n",
    "profiles = profiles.transpose()\n",
    "\n",
    "# x - student, tutor\n",
    "# y - stu_rating\n",
    "\n",
    "# drop cols that are not needed\n",
    "requests.drop([\"status\", \"pinged_tutors\", \"accepted_tutors\", \"denied_tutors\", \"cancelled_tutors\", \"tut_rating\"], axis=1)\n",
    "\n",
    "# get only requests that have finished\n",
    "requests = requests.loc(requests[\"state\"] == \"FULFILLED\")\n",
    "\n",
    "# get user ids from requests df\n",
    "student_ids = requests[\"student\"]\n",
    "tutor_ids = requests[\"tutor\"]\n",
    "\n",
    "# student and tutor series should be the same length\n",
    "# where each index corresponds to the same request\n",
    "assert student_ids.size == tutor_ids.size\n",
    "\n",
    "for i in range(student_ids.size):\n",
    "    # get student profile as a series of data\n",
    "    student_profile = profiles.loc[student_ids[i]]\n",
    "    \n",
    "    # get tutor profile as a series of data\n",
    "    tutor_profile = profiles.loc[tutor_ids[i]]\n",
    "    \n",
    "    # compare student and tutor attributes\n",
    "    \n",
    "\n",
    "\n",
    "\n",
    "\n",
    "\n",
    "\n"
   ]
  }
 ],
 "metadata": {
  "kernelspec": {
   "display_name": "Python 3",
   "language": "python",
   "name": "python3"
  },
  "language_info": {
   "codemirror_mode": {
    "name": "ipython",
    "version": 3
   },
   "file_extension": ".py",
   "mimetype": "text/x-python",
   "name": "python",
   "nbconvert_exporter": "python",
   "pygments_lexer": "ipython3",
   "version": "3.8.8"
  }
 },
 "nbformat": 4,
 "nbformat_minor": 5
}
