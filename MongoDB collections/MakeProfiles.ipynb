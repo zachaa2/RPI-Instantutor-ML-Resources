{
 "cells": [
  {
   "cell_type": "code",
   "execution_count": 24,
   "id": "05ba3ea5",
   "metadata": {},
   "outputs": [],
   "source": [
    "import random\n",
    "import json\n",
    "import numpy as np\n",
    "import pandas as pd"
   ]
  },
  {
   "cell_type": "code",
   "execution_count": 4,
   "id": "7aeba1f3",
   "metadata": {},
   "outputs": [
    {
     "name": "stdout",
     "output_type": "stream",
     "text": [
      "['339452204954', '557610956080', '440869784283', '518332650411', '231857624626', '225844780186', '253795209201', '956522721205', '326839817935', '673004869800', '909076594118', '793708396846', '785004476473', '619061071719', '354389418015', '779780180629', '265642755648', '102647690264', '909180209608', '850925097056']\n"
     ]
    }
   ],
   "source": [
    "# read in id file\n",
    "# see GenerateID.ipynb to generate ids\n",
    "ids = []\n",
    "file = open(\"id.txt\", \"r\")\n",
    "# read lines and strip newline\n",
    "ids = file.readlines()\n",
    "for i in range(len(ids)):\n",
    "    ids[i] = ids[i].strip()\n",
    "\n",
    "\n",
    "    \n",
    "print(ids[:20])"
   ]
  },
  {
   "cell_type": "code",
   "execution_count": 21,
   "id": "a7b8e788",
   "metadata": {},
   "outputs": [],
   "source": [
    "data = []\n",
    "\n",
    "majors = [\"Science\", \"Engineering\", \"Architecture\", \"HASS\", \"MGMT\", \"Info Technology\"]\n",
    "roles = [\"Student\", \"Tutor\", \"Both\"]\n",
    "degree = [\"Undergraduate\", \"Graduate\"]\n",
    "\n",
    "majors_prob = [0.35, 0.5, 0.04, 0.045, 0.04, 0.025]\n",
    "roles_prob = [0.15, 0.15, 0.70]\n",
    "degree_prob = [0.82, 0.18]\n",
    "\n",
    "for i in range(len(ids)):\n",
    "    # establish row of data\n",
    "    row = []\n",
    "    \n",
    "    # add major\n",
    "    index = np.random.choice(np.arange(0, 6), p=majors_prob)\n",
    "    row.append(majors[index])\n",
    "    \n",
    "    #add role\n",
    "    index = np.random.choice(np.arange(0, 3), p=roles_prob)\n",
    "    row.append(roles[index])\n",
    "    \n",
    "    #add degree\n",
    "    index = np.random.choice(np.arange(0, 2), p=degree_prob)\n",
    "    row.append(degree[index])\n",
    "    \n",
    "    # add bio\n",
    "    row.append(\"Generic Bio\")\n",
    "    \n",
    "    #add to data\n",
    "    data.append(row)\n",
    "        "
   ]
  },
  {
   "cell_type": "code",
   "execution_count": 22,
   "id": "f4daf5cd",
   "metadata": {},
   "outputs": [
    {
     "name": "stdout",
     "output_type": "stream",
     "text": [
      "['MGMT', 'Student', 'Graduate', 'Generic Bio']\n",
      "\n",
      "['Engineering', 'Tutor', 'Graduate', 'Generic Bio']\n",
      "\n",
      "['Engineering', 'Both', 'Undergraduate', 'Generic Bio']\n",
      "\n",
      "['Engineering', 'Both', 'Undergraduate', 'Generic Bio']\n",
      "\n",
      "['Engineering', 'Both', 'Graduate', 'Generic Bio']\n",
      "\n",
      "['Science', 'Both', 'Graduate', 'Generic Bio']\n",
      "\n",
      "['Engineering', 'Both', 'Undergraduate', 'Generic Bio']\n",
      "\n",
      "['Science', 'Both', 'Undergraduate', 'Generic Bio']\n",
      "\n",
      "['Science', 'Both', 'Undergraduate', 'Generic Bio']\n",
      "\n",
      "['Science', 'Both', 'Undergraduate', 'Generic Bio']\n",
      "\n"
     ]
    }
   ],
   "source": [
    "for i in range(10):\n",
    "    print(data[i])\n",
    "    print()"
   ]
  },
  {
   "cell_type": "code",
   "execution_count": 26,
   "id": "14baafe6",
   "metadata": {},
   "outputs": [],
   "source": [
    "# columns for the data frame\n",
    "columns = [\"Major\", \"Role\", \"Degree\", \"Bio\"]"
   ]
  },
  {
   "cell_type": "code",
   "execution_count": 27,
   "id": "f876fda3",
   "metadata": {},
   "outputs": [
    {
     "data": {
      "text/html": [
       "<div>\n",
       "<style scoped>\n",
       "    .dataframe tbody tr th:only-of-type {\n",
       "        vertical-align: middle;\n",
       "    }\n",
       "\n",
       "    .dataframe tbody tr th {\n",
       "        vertical-align: top;\n",
       "    }\n",
       "\n",
       "    .dataframe thead th {\n",
       "        text-align: right;\n",
       "    }\n",
       "</style>\n",
       "<table border=\"1\" class=\"dataframe\">\n",
       "  <thead>\n",
       "    <tr style=\"text-align: right;\">\n",
       "      <th></th>\n",
       "      <th>Major</th>\n",
       "      <th>Role</th>\n",
       "      <th>Degree</th>\n",
       "      <th>Bio</th>\n",
       "    </tr>\n",
       "  </thead>\n",
       "  <tbody>\n",
       "    <tr>\n",
       "      <th>0</th>\n",
       "      <td>MGMT</td>\n",
       "      <td>Student</td>\n",
       "      <td>Graduate</td>\n",
       "      <td>Generic Bio</td>\n",
       "    </tr>\n",
       "    <tr>\n",
       "      <th>1</th>\n",
       "      <td>Engineering</td>\n",
       "      <td>Tutor</td>\n",
       "      <td>Graduate</td>\n",
       "      <td>Generic Bio</td>\n",
       "    </tr>\n",
       "    <tr>\n",
       "      <th>2</th>\n",
       "      <td>Engineering</td>\n",
       "      <td>Both</td>\n",
       "      <td>Undergraduate</td>\n",
       "      <td>Generic Bio</td>\n",
       "    </tr>\n",
       "    <tr>\n",
       "      <th>3</th>\n",
       "      <td>Engineering</td>\n",
       "      <td>Both</td>\n",
       "      <td>Undergraduate</td>\n",
       "      <td>Generic Bio</td>\n",
       "    </tr>\n",
       "    <tr>\n",
       "      <th>4</th>\n",
       "      <td>Engineering</td>\n",
       "      <td>Both</td>\n",
       "      <td>Graduate</td>\n",
       "      <td>Generic Bio</td>\n",
       "    </tr>\n",
       "  </tbody>\n",
       "</table>\n",
       "</div>"
      ],
      "text/plain": [
       "         Major     Role         Degree          Bio\n",
       "0         MGMT  Student       Graduate  Generic Bio\n",
       "1  Engineering    Tutor       Graduate  Generic Bio\n",
       "2  Engineering     Both  Undergraduate  Generic Bio\n",
       "3  Engineering     Both  Undergraduate  Generic Bio\n",
       "4  Engineering     Both       Graduate  Generic Bio"
      ]
     },
     "execution_count": 27,
     "metadata": {},
     "output_type": "execute_result"
    }
   ],
   "source": [
    "# make dataframe\n",
    "\n",
    "df = pd.DataFrame(data, columns=columns)\n",
    "df.head()"
   ]
  },
  {
   "cell_type": "code",
   "execution_count": 28,
   "id": "87b135e7",
   "metadata": {},
   "outputs": [
    {
     "name": "stdout",
     "output_type": "stream",
     "text": [
      "           Major     Role         Degree          Bio\n",
      "0           MGMT  Student       Graduate  Generic Bio\n",
      "1    Engineering    Tutor       Graduate  Generic Bio\n",
      "2    Engineering     Both  Undergraduate  Generic Bio\n",
      "3    Engineering     Both  Undergraduate  Generic Bio\n",
      "4    Engineering     Both       Graduate  Generic Bio\n",
      "..           ...      ...            ...          ...\n",
      "995  Engineering     Both  Undergraduate  Generic Bio\n",
      "996  Engineering  Student  Undergraduate  Generic Bio\n",
      "997         MGMT     Both  Undergraduate  Generic Bio\n",
      "998      Science     Both  Undergraduate  Generic Bio\n",
      "999  Engineering     Both  Undergraduate  Generic Bio\n",
      "\n",
      "[1000 rows x 4 columns]\n"
     ]
    }
   ],
   "source": [
    "print(df)"
   ]
  },
  {
   "cell_type": "code",
   "execution_count": 30,
   "id": "811b0ecb",
   "metadata": {},
   "outputs": [],
   "source": [
    "#output to json file\n",
    "df.to_json(\"example_profiles.json\", orient=\"index\", indent = 1)"
   ]
  },
  {
   "cell_type": "code",
   "execution_count": null,
   "id": "35421184",
   "metadata": {},
   "outputs": [],
   "source": []
  }
 ],
 "metadata": {
  "kernelspec": {
   "display_name": "Python 3",
   "language": "python",
   "name": "python3"
  },
  "language_info": {
   "codemirror_mode": {
    "name": "ipython",
    "version": 3
   },
   "file_extension": ".py",
   "mimetype": "text/x-python",
   "name": "python",
   "nbconvert_exporter": "python",
   "pygments_lexer": "ipython3",
   "version": "3.8.8"
  }
 },
 "nbformat": 4,
 "nbformat_minor": 5
}
