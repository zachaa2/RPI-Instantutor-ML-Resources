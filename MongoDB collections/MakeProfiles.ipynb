{
 "cells": [
  {
   "cell_type": "code",
   "execution_count": 2,
   "id": "948a2824",
   "metadata": {},
   "outputs": [],
   "source": [
    "import random\n",
    "import json"
   ]
  },
  {
   "cell_type": "code",
   "execution_count": 3,
   "id": "1867d15b",
   "metadata": {},
   "outputs": [
    {
     "name": "stdout",
     "output_type": "stream",
     "text": [
      "['339452204954', '557610956080', '440869784283', '518332650411', '231857624626', '225844780186', '253795209201', '956522721205', '326839817935', '673004869800', '909076594118', '793708396846', '785004476473', '619061071719', '354389418015', '779780180629', '265642755648', '102647690264', '909180209608', '850925097056']\n"
     ]
    }
   ],
   "source": [
    "# read in id file\n",
    "# see GenerateID.ipynb to generate ids\n",
    "ids = []\n",
    "file = open(\"id.txt\", \"r\")\n",
    "# read lines and strip newline\n",
    "ids = file.readlines()\n",
    "for i in range(len(ids)):\n",
    "    ids[i] = ids[i].strip()\n",
    "\n",
    "\n",
    "    \n",
    "print(ids[:20])"
   ]
  },
  {
   "cell_type": "code",
   "execution_count": 5,
   "id": "70aa6ef3",
   "metadata": {},
   "outputs": [
    {
     "name": "stdout",
     "output_type": "stream",
     "text": [
      "1.0\n"
     ]
    }
   ],
   "source": [
    "data = []\n",
    "\n",
    "majors = [\"Science\", \"Engineering\", \"Architecture\", \"HASS\", \"MGMT\", \"Info Technology\"]\n",
    "majors_prob = [0.35, 0.5, 0.04, 0.045, 0.04, 0.025]\n",
    "\n",
    "for i in range(len(ids)):\n",
    "    row = []\n",
    "    \n",
    "    \n",
    "    \n",
    "    "
   ]
  },
  {
   "cell_type": "code",
   "execution_count": null,
   "id": "2e0994c7",
   "metadata": {},
   "outputs": [],
   "source": []
  }
 ],
 "metadata": {
  "kernelspec": {
   "display_name": "Python 3",
   "language": "python",
   "name": "python3"
  },
  "language_info": {
   "codemirror_mode": {
    "name": "ipython",
    "version": 3
   },
   "file_extension": ".py",
   "mimetype": "text/x-python",
   "name": "python",
   "nbconvert_exporter": "python",
   "pygments_lexer": "ipython3",
   "version": "3.8.8"
  }
 },
 "nbformat": 4,
 "nbformat_minor": 5
}
