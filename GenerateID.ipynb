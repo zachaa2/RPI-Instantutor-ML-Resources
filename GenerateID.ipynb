{
 "cells": [
  {
   "cell_type": "code",
   "execution_count": 5,
   "id": "5aabee23",
   "metadata": {},
   "outputs": [],
   "source": [
    "import random\n",
    "ID_COUNT = 1000"
   ]
  },
  {
   "cell_type": "code",
   "execution_count": 6,
   "id": "c48c9da4",
   "metadata": {},
   "outputs": [],
   "source": [
    "# first generate random ids\n",
    "ids = []\n",
    "for i in range(ID_COUNT):\n",
    "    ids.append(random.randint(100000000000, 999999999999))\n"
   ]
  },
  {
   "cell_type": "code",
   "execution_count": 10,
   "id": "f05252fa",
   "metadata": {},
   "outputs": [],
   "source": [
    "with open(\"id.txt\", \"w\") as file:\n",
    "    for i in range(ID_COUNT - 1):\n",
    "        file.write(str(ids[i]))\n",
    "        file.write(\"\\n\")\n",
    "    file.write(str(ids[ID_COUNT - 1]))\n",
    "   "
   ]
  },
  {
   "cell_type": "code",
   "execution_count": null,
   "id": "ea645690",
   "metadata": {},
   "outputs": [],
   "source": []
  }
 ],
 "metadata": {
  "kernelspec": {
   "display_name": "Python 3",
   "language": "python",
   "name": "python3"
  },
  "language_info": {
   "codemirror_mode": {
    "name": "ipython",
    "version": 3
   },
   "file_extension": ".py",
   "mimetype": "text/x-python",
   "name": "python",
   "nbconvert_exporter": "python",
   "pygments_lexer": "ipython3",
   "version": "3.8.8"
  }
 },
 "nbformat": 4,
 "nbformat_minor": 5
}
